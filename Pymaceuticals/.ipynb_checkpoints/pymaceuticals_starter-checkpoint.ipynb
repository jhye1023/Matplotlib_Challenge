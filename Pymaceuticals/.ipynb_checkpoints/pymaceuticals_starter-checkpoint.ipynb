{
 "cells": [
  {
   "cell_type": "markdown",
   "metadata": {},
   "source": [
    "## Observations and Insights"
   ]
  },
  {
   "cell_type": "markdown",
   "metadata": {},
   "source": []
  },
  {
   "cell_type": "markdown",
   "metadata": {},
   "source": [
    "## Dependencies and starter code"
   ]
  },
  {
   "cell_type": "code",
   "execution_count": null,
   "metadata": {},
   "outputs": [],
   "source": [
    "#1. Count for Capomulin and Ramicane are the most.\n",
    "#2. The gendet ratio of male and female mice used in the experiment is almost even.\n",
    "#3. The correlation coefficient between weight acid and average volume is 0.84 which is very strong positive correlation."
   ]
  },
  {
   "cell_type": "code",
   "execution_count": 1,
   "metadata": {},
   "outputs": [
    {
     "data": {
      "text/html": [
       "<div>\n",
       "<style scoped>\n",
       "    .dataframe tbody tr th:only-of-type {\n",
       "        vertical-align: middle;\n",
       "    }\n",
       "\n",
       "    .dataframe tbody tr th {\n",
       "        vertical-align: top;\n",
       "    }\n",
       "\n",
       "    .dataframe thead th {\n",
       "        text-align: right;\n",
       "    }\n",
       "</style>\n",
       "<table border=\"1\" class=\"dataframe\">\n",
       "  <thead>\n",
       "    <tr style=\"text-align: right;\">\n",
       "      <th></th>\n",
       "      <th>Mouse ID</th>\n",
       "      <th>Drug Regimen</th>\n",
       "      <th>Sex</th>\n",
       "      <th>Age_months</th>\n",
       "      <th>Weight (g)</th>\n",
       "      <th>Timepoint</th>\n",
       "      <th>Tumor Volume (mm3)</th>\n",
       "      <th>Metastatic Sites</th>\n",
       "    </tr>\n",
       "  </thead>\n",
       "  <tbody>\n",
       "    <tr>\n",
       "      <td>0</td>\n",
       "      <td>k403</td>\n",
       "      <td>Ramicane</td>\n",
       "      <td>Male</td>\n",
       "      <td>21</td>\n",
       "      <td>16</td>\n",
       "      <td>0</td>\n",
       "      <td>45.000000</td>\n",
       "      <td>0</td>\n",
       "    </tr>\n",
       "    <tr>\n",
       "      <td>1</td>\n",
       "      <td>k403</td>\n",
       "      <td>Ramicane</td>\n",
       "      <td>Male</td>\n",
       "      <td>21</td>\n",
       "      <td>16</td>\n",
       "      <td>5</td>\n",
       "      <td>38.825898</td>\n",
       "      <td>0</td>\n",
       "    </tr>\n",
       "    <tr>\n",
       "      <td>2</td>\n",
       "      <td>k403</td>\n",
       "      <td>Ramicane</td>\n",
       "      <td>Male</td>\n",
       "      <td>21</td>\n",
       "      <td>16</td>\n",
       "      <td>10</td>\n",
       "      <td>35.014271</td>\n",
       "      <td>1</td>\n",
       "    </tr>\n",
       "    <tr>\n",
       "      <td>3</td>\n",
       "      <td>k403</td>\n",
       "      <td>Ramicane</td>\n",
       "      <td>Male</td>\n",
       "      <td>21</td>\n",
       "      <td>16</td>\n",
       "      <td>15</td>\n",
       "      <td>34.223992</td>\n",
       "      <td>1</td>\n",
       "    </tr>\n",
       "    <tr>\n",
       "      <td>4</td>\n",
       "      <td>k403</td>\n",
       "      <td>Ramicane</td>\n",
       "      <td>Male</td>\n",
       "      <td>21</td>\n",
       "      <td>16</td>\n",
       "      <td>20</td>\n",
       "      <td>32.997729</td>\n",
       "      <td>1</td>\n",
       "    </tr>\n",
       "  </tbody>\n",
       "</table>\n",
       "</div>"
      ],
      "text/plain": [
       "  Mouse ID Drug Regimen   Sex  Age_months  Weight (g)  Timepoint  \\\n",
       "0     k403     Ramicane  Male          21          16          0   \n",
       "1     k403     Ramicane  Male          21          16          5   \n",
       "2     k403     Ramicane  Male          21          16         10   \n",
       "3     k403     Ramicane  Male          21          16         15   \n",
       "4     k403     Ramicane  Male          21          16         20   \n",
       "\n",
       "   Tumor Volume (mm3)  Metastatic Sites  \n",
       "0           45.000000                 0  \n",
       "1           38.825898                 0  \n",
       "2           35.014271                 1  \n",
       "3           34.223992                 1  \n",
       "4           32.997729                 1  "
      ]
     },
     "execution_count": 1,
     "metadata": {},
     "output_type": "execute_result"
    }
   ],
   "source": [
    "# Dependencies and Setup\n",
    "import matplotlib.pyplot as plt\n",
    "import pandas as pd\n",
    "import scipy.stats as st\n",
    "import numpy as np\n",
    "import sklearn.datasets as dta\n",
    "from scipy.stats import linregress\n",
    "# Study data files\n",
    "mouse_metadata = \"data/Mouse_metadata.csv\"\n",
    "study_results = \"data/Study_results.csv\"\n",
    "\n",
    "# Read the mouse data and the study results\n",
    "mouse_metadata = pd.read_csv(mouse_metadata)\n",
    "study_results = pd.read_csv(study_results)\n",
    "\n",
    "# Combine the data into a single dataset\n",
    "combined_data = pd.merge(mouse_metadata, study_results, how = 'outer', on = 'Mouse ID')\n",
    "combined_data.head()"
   ]
  },
  {
   "cell_type": "markdown",
   "metadata": {},
   "source": [
    "## Summary statistics"
   ]
  },
  {
   "cell_type": "code",
   "execution_count": 2,
   "metadata": {},
   "outputs": [],
   "source": [
    "# Generate a summary statistics table of mean, median, variance, standard deviation, and SEM of the tumor volume for each regimen"
   ]
  },
  {
   "cell_type": "code",
   "execution_count": 2,
   "metadata": {},
   "outputs": [
    {
     "data": {
      "text/html": [
       "<style  type=\"text/css\" >\n",
       "</style><table id=\"T_c7f88ae6_76de_11ea_9926_acde48001122\" ><thead>    <tr>        <th class=\"blank level0\" ></th>        <th class=\"col_heading level0 col0\" >Mean</th>        <th class=\"col_heading level0 col1\" >Median</th>        <th class=\"col_heading level0 col2\" >Variance</th>        <th class=\"col_heading level0 col3\" >Standard Deviation</th>        <th class=\"col_heading level0 col4\" >SEM</th>    </tr>    <tr>        <th class=\"index_name level0\" >Drug Regimen</th>        <th class=\"blank\" ></th>        <th class=\"blank\" ></th>        <th class=\"blank\" ></th>        <th class=\"blank\" ></th>        <th class=\"blank\" ></th>    </tr></thead><tbody>\n",
       "                <tr>\n",
       "                        <th id=\"T_c7f88ae6_76de_11ea_9926_acde48001122level0_row0\" class=\"row_heading level0 row0\" >Capomulin</th>\n",
       "                        <td id=\"T_c7f88ae6_76de_11ea_9926_acde48001122row0_col0\" class=\"data row0 col0\" >40.68</td>\n",
       "                        <td id=\"T_c7f88ae6_76de_11ea_9926_acde48001122row0_col1\" class=\"data row0 col1\" >41.56</td>\n",
       "                        <td id=\"T_c7f88ae6_76de_11ea_9926_acde48001122row0_col2\" class=\"data row0 col2\" >24.95</td>\n",
       "                        <td id=\"T_c7f88ae6_76de_11ea_9926_acde48001122row0_col3\" class=\"data row0 col3\" >4.99</td>\n",
       "                        <td id=\"T_c7f88ae6_76de_11ea_9926_acde48001122row0_col4\" class=\"data row0 col4\" >0.33</td>\n",
       "            </tr>\n",
       "            <tr>\n",
       "                        <th id=\"T_c7f88ae6_76de_11ea_9926_acde48001122level0_row1\" class=\"row_heading level0 row1\" >Ceftamin</th>\n",
       "                        <td id=\"T_c7f88ae6_76de_11ea_9926_acde48001122row1_col0\" class=\"data row1 col0\" >52.59</td>\n",
       "                        <td id=\"T_c7f88ae6_76de_11ea_9926_acde48001122row1_col1\" class=\"data row1 col1\" >51.78</td>\n",
       "                        <td id=\"T_c7f88ae6_76de_11ea_9926_acde48001122row1_col2\" class=\"data row1 col2\" >39.29</td>\n",
       "                        <td id=\"T_c7f88ae6_76de_11ea_9926_acde48001122row1_col3\" class=\"data row1 col3\" >6.27</td>\n",
       "                        <td id=\"T_c7f88ae6_76de_11ea_9926_acde48001122row1_col4\" class=\"data row1 col4\" >0.47</td>\n",
       "            </tr>\n",
       "            <tr>\n",
       "                        <th id=\"T_c7f88ae6_76de_11ea_9926_acde48001122level0_row2\" class=\"row_heading level0 row2\" >Infubinol</th>\n",
       "                        <td id=\"T_c7f88ae6_76de_11ea_9926_acde48001122row2_col0\" class=\"data row2 col0\" >52.88</td>\n",
       "                        <td id=\"T_c7f88ae6_76de_11ea_9926_acde48001122row2_col1\" class=\"data row2 col1\" >51.82</td>\n",
       "                        <td id=\"T_c7f88ae6_76de_11ea_9926_acde48001122row2_col2\" class=\"data row2 col2\" >43.13</td>\n",
       "                        <td id=\"T_c7f88ae6_76de_11ea_9926_acde48001122row2_col3\" class=\"data row2 col3\" >6.57</td>\n",
       "                        <td id=\"T_c7f88ae6_76de_11ea_9926_acde48001122row2_col4\" class=\"data row2 col4\" >0.49</td>\n",
       "            </tr>\n",
       "            <tr>\n",
       "                        <th id=\"T_c7f88ae6_76de_11ea_9926_acde48001122level0_row3\" class=\"row_heading level0 row3\" >Ketapril</th>\n",
       "                        <td id=\"T_c7f88ae6_76de_11ea_9926_acde48001122row3_col0\" class=\"data row3 col0\" >55.24</td>\n",
       "                        <td id=\"T_c7f88ae6_76de_11ea_9926_acde48001122row3_col1\" class=\"data row3 col1\" >53.70</td>\n",
       "                        <td id=\"T_c7f88ae6_76de_11ea_9926_acde48001122row3_col2\" class=\"data row3 col2\" >68.55</td>\n",
       "                        <td id=\"T_c7f88ae6_76de_11ea_9926_acde48001122row3_col3\" class=\"data row3 col3\" >8.28</td>\n",
       "                        <td id=\"T_c7f88ae6_76de_11ea_9926_acde48001122row3_col4\" class=\"data row3 col4\" >0.60</td>\n",
       "            </tr>\n",
       "            <tr>\n",
       "                        <th id=\"T_c7f88ae6_76de_11ea_9926_acde48001122level0_row4\" class=\"row_heading level0 row4\" >Naftisol</th>\n",
       "                        <td id=\"T_c7f88ae6_76de_11ea_9926_acde48001122row4_col0\" class=\"data row4 col0\" >54.33</td>\n",
       "                        <td id=\"T_c7f88ae6_76de_11ea_9926_acde48001122row4_col1\" class=\"data row4 col1\" >52.51</td>\n",
       "                        <td id=\"T_c7f88ae6_76de_11ea_9926_acde48001122row4_col2\" class=\"data row4 col2\" >66.17</td>\n",
       "                        <td id=\"T_c7f88ae6_76de_11ea_9926_acde48001122row4_col3\" class=\"data row4 col3\" >8.13</td>\n",
       "                        <td id=\"T_c7f88ae6_76de_11ea_9926_acde48001122row4_col4\" class=\"data row4 col4\" >0.60</td>\n",
       "            </tr>\n",
       "            <tr>\n",
       "                        <th id=\"T_c7f88ae6_76de_11ea_9926_acde48001122level0_row5\" class=\"row_heading level0 row5\" >Placebo</th>\n",
       "                        <td id=\"T_c7f88ae6_76de_11ea_9926_acde48001122row5_col0\" class=\"data row5 col0\" >54.03</td>\n",
       "                        <td id=\"T_c7f88ae6_76de_11ea_9926_acde48001122row5_col1\" class=\"data row5 col1\" >52.29</td>\n",
       "                        <td id=\"T_c7f88ae6_76de_11ea_9926_acde48001122row5_col2\" class=\"data row5 col2\" >61.17</td>\n",
       "                        <td id=\"T_c7f88ae6_76de_11ea_9926_acde48001122row5_col3\" class=\"data row5 col3\" >7.82</td>\n",
       "                        <td id=\"T_c7f88ae6_76de_11ea_9926_acde48001122row5_col4\" class=\"data row5 col4\" >0.58</td>\n",
       "            </tr>\n",
       "            <tr>\n",
       "                        <th id=\"T_c7f88ae6_76de_11ea_9926_acde48001122level0_row6\" class=\"row_heading level0 row6\" >Propriva</th>\n",
       "                        <td id=\"T_c7f88ae6_76de_11ea_9926_acde48001122row6_col0\" class=\"data row6 col0\" >52.32</td>\n",
       "                        <td id=\"T_c7f88ae6_76de_11ea_9926_acde48001122row6_col1\" class=\"data row6 col1\" >50.85</td>\n",
       "                        <td id=\"T_c7f88ae6_76de_11ea_9926_acde48001122row6_col2\" class=\"data row6 col2\" >42.35</td>\n",
       "                        <td id=\"T_c7f88ae6_76de_11ea_9926_acde48001122row6_col3\" class=\"data row6 col3\" >6.51</td>\n",
       "                        <td id=\"T_c7f88ae6_76de_11ea_9926_acde48001122row6_col4\" class=\"data row6 col4\" >0.51</td>\n",
       "            </tr>\n",
       "            <tr>\n",
       "                        <th id=\"T_c7f88ae6_76de_11ea_9926_acde48001122level0_row7\" class=\"row_heading level0 row7\" >Ramicane</th>\n",
       "                        <td id=\"T_c7f88ae6_76de_11ea_9926_acde48001122row7_col0\" class=\"data row7 col0\" >40.22</td>\n",
       "                        <td id=\"T_c7f88ae6_76de_11ea_9926_acde48001122row7_col1\" class=\"data row7 col1\" >40.67</td>\n",
       "                        <td id=\"T_c7f88ae6_76de_11ea_9926_acde48001122row7_col2\" class=\"data row7 col2\" >23.49</td>\n",
       "                        <td id=\"T_c7f88ae6_76de_11ea_9926_acde48001122row7_col3\" class=\"data row7 col3\" >4.85</td>\n",
       "                        <td id=\"T_c7f88ae6_76de_11ea_9926_acde48001122row7_col4\" class=\"data row7 col4\" >0.32</td>\n",
       "            </tr>\n",
       "            <tr>\n",
       "                        <th id=\"T_c7f88ae6_76de_11ea_9926_acde48001122level0_row8\" class=\"row_heading level0 row8\" >Stelasyn</th>\n",
       "                        <td id=\"T_c7f88ae6_76de_11ea_9926_acde48001122row8_col0\" class=\"data row8 col0\" >54.23</td>\n",
       "                        <td id=\"T_c7f88ae6_76de_11ea_9926_acde48001122row8_col1\" class=\"data row8 col1\" >52.43</td>\n",
       "                        <td id=\"T_c7f88ae6_76de_11ea_9926_acde48001122row8_col2\" class=\"data row8 col2\" >59.45</td>\n",
       "                        <td id=\"T_c7f88ae6_76de_11ea_9926_acde48001122row8_col3\" class=\"data row8 col3\" >7.71</td>\n",
       "                        <td id=\"T_c7f88ae6_76de_11ea_9926_acde48001122row8_col4\" class=\"data row8 col4\" >0.57</td>\n",
       "            </tr>\n",
       "            <tr>\n",
       "                        <th id=\"T_c7f88ae6_76de_11ea_9926_acde48001122level0_row9\" class=\"row_heading level0 row9\" >Zoniferol</th>\n",
       "                        <td id=\"T_c7f88ae6_76de_11ea_9926_acde48001122row9_col0\" class=\"data row9 col0\" >53.24</td>\n",
       "                        <td id=\"T_c7f88ae6_76de_11ea_9926_acde48001122row9_col1\" class=\"data row9 col1\" >51.82</td>\n",
       "                        <td id=\"T_c7f88ae6_76de_11ea_9926_acde48001122row9_col2\" class=\"data row9 col2\" >48.53</td>\n",
       "                        <td id=\"T_c7f88ae6_76de_11ea_9926_acde48001122row9_col3\" class=\"data row9 col3\" >6.97</td>\n",
       "                        <td id=\"T_c7f88ae6_76de_11ea_9926_acde48001122row9_col4\" class=\"data row9 col4\" >0.52</td>\n",
       "            </tr>\n",
       "    </tbody></table>"
      ],
      "text/plain": [
       "<pandas.io.formats.style.Styler at 0x1a20509e90>"
      ]
     },
     "execution_count": 2,
     "metadata": {},
     "output_type": "execute_result"
    }
   ],
   "source": [
    "mean = combined_data.groupby(\"Drug Regimen\")[\"Tumor Volume (mm3)\"].mean()\n",
    "median = combined_data.groupby(\"Drug Regimen\")[\"Tumor Volume (mm3)\"].median()\n",
    "variance = combined_data.groupby(\"Drug Regimen\")[\"Tumor Volume (mm3)\"].var()\n",
    "stdv = combined_data.groupby(\"Drug Regimen\")[\"Tumor Volume (mm3)\"].std()\n",
    "sem = combined_data.groupby(\"Drug Regimen\")[\"Tumor Volume (mm3)\"].sem()\n",
    "\n",
    "summary_df = pd.DataFrame({\"Mean\": mean, \"Median\": median, \"Variance\": variance, \"Standard Deviation\": stdv, \n",
    "                          \"SEM\": sem})\n",
    "\n",
    "summary_df.style.format({\"Mean\":\"{:.2f}\",\n",
    "                         \"Median\":\"{:,.2f}\",\n",
    "                         \"Variance\":\"{:.2f}\",\n",
    "                         \"Standard Deviation\":\"{:.2f}\",\n",
    "                         \"SEM\":\"{:.2f}\"})\n",
    "            \n"
   ]
  },
  {
   "cell_type": "markdown",
   "metadata": {},
   "source": [
    "## Bar plots"
   ]
  },
  {
   "cell_type": "code",
   "execution_count": 3,
   "metadata": {},
   "outputs": [],
   "source": [
    "# Generate a bar plot showing number of data points for each treatment regimen using pandas"
   ]
  },
  {
   "cell_type": "code",
   "execution_count": 5,
   "metadata": {
    "scrolled": true
   },
   "outputs": [
    {
     "data": {
      "image/png": "[encoded data removed]",
      "text/plain": [
       "<Figure size 720x360 with 1 Axes>"
      ]
     },
     "metadata": {
      "needs_background": "light"
     },
     "output_type": "display_data"
    }
   ],
   "source": [
    "grouped_df = pd.DataFrame(combined_data.groupby([\"Drug Regimen\"]).count()).reset_index()\n",
    "regimen = grouped_df[[\"Drug Regimen\",\"Mouse ID\"]]\n",
    "regimen = regimen.rename(columns={\"Mouse ID\": \"Count\"})\n",
    "regimen = regimen.set_index(\"Drug Regimen\")\n",
    "\n",
    "regimen.plot(kind=\"bar\", figsize=(10,5))\n",
    "\n",
    "plt.title(\"Count for Each Treament\")\n",
    "plt.xlabel(\"Drug Regimen\")\n",
    "plt.ylabel(\"Count\")\n",
    "plt.tight_layout()\n",
    "plt.show()\n"
   ]
  },
  {
   "cell_type": "code",
   "execution_count": 6,
   "metadata": {},
   "outputs": [
    {
     "data": {
      "text/plain": [
       "['Capomulin',\n",
       " 'Ceftamin',\n",
       " 'Infubinol',\n",
       " 'Ketapril',\n",
       " 'Naftisol',\n",
       " 'Placebo',\n",
       " 'Propriva',\n",
       " 'Ramicane',\n",
       " 'Stelasyn',\n",
       " 'Zoniferol']"
      ]
     },
     "execution_count": 6,
     "metadata": {},
     "output_type": "execute_result"
    }
   ],
   "source": [
    "# Generate a bar plot showing number of data points for each treatment regimen using pyplot\n",
    "drug_regimens = summary_df.index.tolist()\n",
    "drug_regimens"
   ]
  },
  {
   "cell_type": "code",
   "execution_count": 7,
   "metadata": {},
   "outputs": [
    {
     "data": {
      "text/plain": [
       "[230, 178, 178, 188, 186, 181, 161, 228, 181, 182]"
      ]
     },
     "execution_count": 7,
     "metadata": {},
     "output_type": "execute_result"
    }
   ],
   "source": [
    "regimen_count = (combined_data.groupby([\"Drug Regimen\"])[\"Age_months\"].count()).tolist()\n",
    "regimen_count"
   ]
  },
  {
   "cell_type": "code",
   "execution_count": 15,
   "metadata": {},
   "outputs": [
    {
     "data": {
      "text/plain": [
       "Text(60.0, 0.5, 'Count')"
      ]
     },
     "execution_count": 15,
     "metadata": {},
     "output_type": "execute_result"
    },
    {
     "data": {
      "image/png": "[encoded data removed]",
      "text/plain": [
       "<Figure size 720x360 with 1 Axes>"
      ]
     },
     "metadata": {
      "needs_background": "light"
     },
     "output_type": "display_data"
    }
   ],
   "source": [
    "x_axis = np.arange(len(regimen_count))\n",
    "x_axis = drug_regimens\n",
    "plt.figure(figsize=(10,5))\n",
    "plt.bar(x_axis, regimen_count, color='b', alpha=0.5, align=\"center\")\n",
    "plt.tight_layout()\n",
    "plt.title(\"Count for Each Treament\")\n",
    "plt.xlabel(\"Drug Regimen\")\n",
    "plt.ylabel(\"Count\")"
   ]
  },
  {
   "cell_type": "markdown",
   "metadata": {},
   "source": [
    "## Pie plots"
   ]
  },
  {
   "cell_type": "code",
   "execution_count": 5,
   "metadata": {},
   "outputs": [],
   "source": [
    "# Generate a pie plot showing the distribution of female versus male mice using pandas"
   ]
  },
  {
   "cell_type": "code",
   "execution_count": 24,
   "metadata": {},
   "outputs": [
    {
     "data": {
      "image/png": "[encoded data removed]",
      "text/plain": [
       "<Figure size 432x288 with 1 Axes>"
      ]
     },
     "metadata": {},
     "output_type": "display_data"
    }
   ],
   "source": [
    "\n",
    "grouped_gender = pd.DataFrame(combined_data.groupby([\"Sex\"]).count()).reset_index()\n",
    "distribution = grouped_gender[[\"Sex\",\"Mouse ID\"]]\n",
    "distribution = distribution.rename(columns={\"Mouse ID\": \"Count\"})\n",
    "\n",
    "plot = distribution.plot.pie(y = 'Count', title=\"Distribution by Gender\", legend=False, \n",
    "                   autopct='%1.1f%%', labels=distribution['Sex'], shadow=True, startangle=90)\n",
    "plt.tight_layout()\n"
   ]
  },
  {
   "cell_type": "code",
   "execution_count": 6,
   "metadata": {},
   "outputs": [],
   "source": [
    "# Generate a pie plot showing the distribution of female versus male mice using pyplot"
   ]
  },
  {
   "cell_type": "code",
   "execution_count": 25,
   "metadata": {},
   "outputs": [
    {
     "data": {
      "image/png": "[encoded data removed]",
      "text/plain": [
       "<Figure size 432x288 with 1 Axes>"
      ]
     },
     "metadata": {},
     "output_type": "display_data"
    }
   ],
   "source": [
    "#gender = combined_data.groupby(\"Sex\").count().reset_index()\n",
    "#count_gender = gender['Sex'].count().tolist()\n",
    "count_gender = (combined_data.groupby([\"Sex\"])[\"Age_months\"].count()).tolist()\n",
    "count_gender\n",
    "\n",
    "\n",
    "labels = [\"Females\", \"Males\"]\n",
    "colors = [\"skyblue\", \"orange\"]\n",
    "\n",
    "\n",
    "plt.pie(count_gender, labels=labels, colors=colors,\n",
    "        autopct=\"%1.1f%%\", shadow=True, startangle=90)\n",
    "plt.title(\"Distribution by Gender\")\n",
    "plt.tight_layout()\n"
   ]
  },
  {
   "cell_type": "markdown",
   "metadata": {},
   "source": [
    "## Quartiles, outliers and boxplots"
   ]
  },
  {
   "cell_type": "code",
   "execution_count": 7,
   "metadata": {},
   "outputs": [],
   "source": [
    "# Calculate the final tumor volume of each mouse across four of the most promising treatment regimens. \n",
    "#Calculate the IQR and quantitatively determine if there are any potential outliers."
   ]
  },
  {
   "cell_type": "code",
   "execution_count": 27,
   "metadata": {},
   "outputs": [
    {
     "data": {
      "text/html": [
       "<div>\n",
       "<style scoped>\n",
       "    .dataframe tbody tr th:only-of-type {\n",
       "        vertical-align: middle;\n",
       "    }\n",
       "\n",
       "    .dataframe tbody tr th {\n",
       "        vertical-align: top;\n",
       "    }\n",
       "\n",
       "    .dataframe thead th {\n",
       "        text-align: right;\n",
       "    }\n",
       "</style>\n",
       "<table border=\"1\" class=\"dataframe\">\n",
       "  <thead>\n",
       "    <tr style=\"text-align: right;\">\n",
       "      <th></th>\n",
       "      <th>index</th>\n",
       "      <th>Mouse ID</th>\n",
       "      <th>Drug Regimen</th>\n",
       "      <th>Sex</th>\n",
       "      <th>Age_months</th>\n",
       "      <th>Weight (g)</th>\n",
       "      <th>Timepoint</th>\n",
       "      <th>Tumor Volume (mm3)</th>\n",
       "      <th>Metastatic Sites</th>\n",
       "    </tr>\n",
       "  </thead>\n",
       "  <tbody>\n",
       "    <tr>\n",
       "      <td>0</td>\n",
       "      <td>309</td>\n",
       "      <td>b128</td>\n",
       "      <td>Capomulin</td>\n",
       "      <td>Female</td>\n",
       "      <td>9</td>\n",
       "      <td>22</td>\n",
       "      <td>45</td>\n",
       "      <td>38.982878</td>\n",
       "      <td>2</td>\n",
       "    </tr>\n",
       "    <tr>\n",
       "      <td>1</td>\n",
       "      <td>299</td>\n",
       "      <td>b742</td>\n",
       "      <td>Capomulin</td>\n",
       "      <td>Male</td>\n",
       "      <td>7</td>\n",
       "      <td>21</td>\n",
       "      <td>45</td>\n",
       "      <td>38.939633</td>\n",
       "      <td>0</td>\n",
       "    </tr>\n",
       "    <tr>\n",
       "      <td>2</td>\n",
       "      <td>244</td>\n",
       "      <td>g288</td>\n",
       "      <td>Capomulin</td>\n",
       "      <td>Male</td>\n",
       "      <td>3</td>\n",
       "      <td>19</td>\n",
       "      <td>45</td>\n",
       "      <td>37.074024</td>\n",
       "      <td>1</td>\n",
       "    </tr>\n",
       "    <tr>\n",
       "      <td>3</td>\n",
       "      <td>360</td>\n",
       "      <td>g316</td>\n",
       "      <td>Capomulin</td>\n",
       "      <td>Female</td>\n",
       "      <td>22</td>\n",
       "      <td>22</td>\n",
       "      <td>45</td>\n",
       "      <td>40.159220</td>\n",
       "      <td>2</td>\n",
       "    </tr>\n",
       "    <tr>\n",
       "      <td>4</td>\n",
       "      <td>440</td>\n",
       "      <td>i557</td>\n",
       "      <td>Capomulin</td>\n",
       "      <td>Female</td>\n",
       "      <td>1</td>\n",
       "      <td>24</td>\n",
       "      <td>45</td>\n",
       "      <td>47.685963</td>\n",
       "      <td>1</td>\n",
       "    </tr>\n",
       "  </tbody>\n",
       "</table>\n",
       "</div>"
      ],
      "text/plain": [
       "   index Mouse ID Drug Regimen     Sex  Age_months  Weight (g)  Timepoint  \\\n",
       "0    309     b128    Capomulin  Female           9          22         45   \n",
       "1    299     b742    Capomulin    Male           7          21         45   \n",
       "2    244     g288    Capomulin    Male           3          19         45   \n",
       "3    360     g316    Capomulin  Female          22          22         45   \n",
       "4    440     i557    Capomulin  Female           1          24         45   \n",
       "\n",
       "   Tumor Volume (mm3)  Metastatic Sites  \n",
       "0           38.982878                 2  \n",
       "1           38.939633                 0  \n",
       "2           37.074024                 1  \n",
       "3           40.159220                 2  \n",
       "4           47.685963                 1  "
      ]
     },
     "execution_count": 27,
     "metadata": {},
     "output_type": "execute_result"
    }
   ],
   "source": [
    "final_tumer = combined_data.sort_values([\"Drug Regimen\", \"Mouse ID\", \"Timepoint\"], ascending=True)\n",
    "\n",
    "final_df = final_tumer[final_tumer[\"Timepoint\"] == 45]\n",
    "final_df.head().reset_index()"
   ]
  },
  {
   "cell_type": "code",
   "execution_count": 28,
   "metadata": {
    "scrolled": true
   },
   "outputs": [
    {
     "data": {
      "text/html": [
       "<div>\n",
       "<style scoped>\n",
       "    .dataframe tbody tr th:only-of-type {\n",
       "        vertical-align: middle;\n",
       "    }\n",
       "\n",
       "    .dataframe tbody tr th {\n",
       "        vertical-align: top;\n",
       "    }\n",
       "\n",
       "    .dataframe thead th {\n",
       "        text-align: right;\n",
       "    }\n",
       "</style>\n",
       "<table border=\"1\" class=\"dataframe\">\n",
       "  <thead>\n",
       "    <tr style=\"text-align: right;\">\n",
       "      <th></th>\n",
       "      <th>index</th>\n",
       "      <th>Mouse ID</th>\n",
       "      <th>Drug Regimen</th>\n",
       "      <th>Sex</th>\n",
       "      <th>Age_months</th>\n",
       "      <th>Weight (g)</th>\n",
       "      <th>Timepoint</th>\n",
       "      <th>Tumor Volume (mm3)</th>\n",
       "      <th>Metastatic Sites</th>\n",
       "    </tr>\n",
       "  </thead>\n",
       "  <tbody>\n",
       "    <tr>\n",
       "      <td>0</td>\n",
       "      <td>309</td>\n",
       "      <td>b128</td>\n",
       "      <td>Capomulin</td>\n",
       "      <td>Female</td>\n",
       "      <td>9</td>\n",
       "      <td>22</td>\n",
       "      <td>45</td>\n",
       "      <td>38.982878</td>\n",
       "      <td>2</td>\n",
       "    </tr>\n",
       "    <tr>\n",
       "      <td>1</td>\n",
       "      <td>299</td>\n",
       "      <td>b742</td>\n",
       "      <td>Capomulin</td>\n",
       "      <td>Male</td>\n",
       "      <td>7</td>\n",
       "      <td>21</td>\n",
       "      <td>45</td>\n",
       "      <td>38.939633</td>\n",
       "      <td>0</td>\n",
       "    </tr>\n",
       "    <tr>\n",
       "      <td>2</td>\n",
       "      <td>244</td>\n",
       "      <td>g288</td>\n",
       "      <td>Capomulin</td>\n",
       "      <td>Male</td>\n",
       "      <td>3</td>\n",
       "      <td>19</td>\n",
       "      <td>45</td>\n",
       "      <td>37.074024</td>\n",
       "      <td>1</td>\n",
       "    </tr>\n",
       "    <tr>\n",
       "      <td>3</td>\n",
       "      <td>360</td>\n",
       "      <td>g316</td>\n",
       "      <td>Capomulin</td>\n",
       "      <td>Female</td>\n",
       "      <td>22</td>\n",
       "      <td>22</td>\n",
       "      <td>45</td>\n",
       "      <td>40.159220</td>\n",
       "      <td>2</td>\n",
       "    </tr>\n",
       "    <tr>\n",
       "      <td>4</td>\n",
       "      <td>440</td>\n",
       "      <td>i557</td>\n",
       "      <td>Capomulin</td>\n",
       "      <td>Female</td>\n",
       "      <td>1</td>\n",
       "      <td>24</td>\n",
       "      <td>45</td>\n",
       "      <td>47.685963</td>\n",
       "      <td>1</td>\n",
       "    </tr>\n",
       "  </tbody>\n",
       "</table>\n",
       "</div>"
      ],
      "text/plain": [
       "   index Mouse ID Drug Regimen     Sex  Age_months  Weight (g)  Timepoint  \\\n",
       "0    309     b128    Capomulin  Female           9          22         45   \n",
       "1    299     b742    Capomulin    Male           7          21         45   \n",
       "2    244     g288    Capomulin    Male           3          19         45   \n",
       "3    360     g316    Capomulin  Female          22          22         45   \n",
       "4    440     i557    Capomulin  Female           1          24         45   \n",
       "\n",
       "   Tumor Volume (mm3)  Metastatic Sites  \n",
       "0           38.982878                 2  \n",
       "1           38.939633                 0  \n",
       "2           37.074024                 1  \n",
       "3           40.159220                 2  \n",
       "4           47.685963                 1  "
      ]
     },
     "execution_count": 28,
     "metadata": {},
     "output_type": "execute_result"
    }
   ],
   "source": [
    "cap_data_df = final_df.loc[final_df[\"Drug Regimen\"] == \"Capomulin\"]\n",
    "cap_data_df.head().reset_index()"
   ]
  },
  {
   "cell_type": "code",
   "execution_count": 29,
   "metadata": {},
   "outputs": [
    {
     "data": {
      "text/plain": [
       "0     23.343598\n",
       "1     28.430964\n",
       "2     28.484033\n",
       "3     31.023923\n",
       "4     31.896238\n",
       "5     32.377357\n",
       "6     33.329098\n",
       "7     34.455298\n",
       "8     36.041047\n",
       "9     37.074024\n",
       "10    37.311846\n",
       "11    38.125164\n",
       "12    38.846876\n",
       "13    38.939633\n",
       "14    38.982878\n",
       "15    40.159220\n",
       "16    40.658124\n",
       "17    40.728578\n",
       "18    41.483008\n",
       "19    41.581521\n",
       "20    47.685963\n",
       "Name: Tumor Volume (mm3), dtype: float64"
      ]
     },
     "execution_count": 29,
     "metadata": {},
     "output_type": "execute_result"
    }
   ],
   "source": [
    "cap_list = cap_data_df.sort_values([\"Tumor Volume (mm3)\",\"Mouse ID\"], ascending=True).reset_index()\n",
    "cap_list = cap_list[\"Tumor Volume (mm3)\"]\n",
    "cap_list "
   ]
  },
  {
   "cell_type": "code",
   "execution_count": 30,
   "metadata": {},
   "outputs": [
    {
     "name": "stdout",
     "output_type": "stream",
     "text": [
      "The lower quartile of tumer volume is: 32.37735684\n",
      "The upper quartile of tumer volume is: 40.1592203\n",
      "The interquartile range of tumer volume is: 7.781863460000004\n",
      "The the median of tumer volume is: 37.31184577 \n",
      "Values below 20.70456164999999 could be outliers.\n",
      "Values above 51.83201549 could be outliers.\n"
     ]
    }
   ],
   "source": [
    "quartiles = cap_list.quantile([.25,.5,.75])\n",
    "lowerq = quartiles[0.25]\n",
    "upperq = quartiles[0.75]\n",
    "iqr = upperq-lowerq\n",
    "\n",
    "print(f\"The lower quartile of tumer volume is: {lowerq}\")\n",
    "print(f\"The upper quartile of tumer volume is: {upperq}\")\n",
    "print(f\"The interquartile range of tumer volume is: {iqr}\")\n",
    "print(f\"The the median of tumer volume is: {quartiles[0.5]} \")\n",
    "\n",
    "lower_bound = lowerq - (1.5*iqr)\n",
    "upper_bound = upperq + (1.5*iqr)\n",
    "print(f\"Values below {lower_bound} could be outliers.\")\n",
    "print(f\"Values above {upper_bound} could be outliers.\")"
   ]
  },
  {
   "cell_type": "code",
   "execution_count": 31,
   "metadata": {
    "scrolled": true
   },
   "outputs": [
    {
     "data": {
      "image/png": "[encoded data removed]",
      "text/plain": [
       "<Figure size 432x288 with 1 Axes>"
      ]
     },
     "metadata": {
      "needs_background": "light"
     },
     "output_type": "display_data"
    }
   ],
   "source": [
    "# Generate a box plot of the final tumor volume of each mouse across four regimens of interest\n",
    "fig1, ax1 = plt.subplots()\n",
    "ax1.set_title('Capomulin')\n",
    "ax1.set_ylabel('Tumor Volume (mm3)')\n",
    "ax1.boxplot(cap_list)\n",
    "plt.show()"
   ]
  },
  {
   "cell_type": "code",
   "execution_count": 32,
   "metadata": {
    "scrolled": true
   },
   "outputs": [
    {
     "data": {
      "text/html": [
       "<div>\n",
       "<style scoped>\n",
       "    .dataframe tbody tr th:only-of-type {\n",
       "        vertical-align: middle;\n",
       "    }\n",
       "\n",
       "    .dataframe tbody tr th {\n",
       "        vertical-align: top;\n",
       "    }\n",
       "\n",
       "    .dataframe thead th {\n",
       "        text-align: right;\n",
       "    }\n",
       "</style>\n",
       "<table border=\"1\" class=\"dataframe\">\n",
       "  <thead>\n",
       "    <tr style=\"text-align: right;\">\n",
       "      <th></th>\n",
       "      <th>index</th>\n",
       "      <th>Mouse ID</th>\n",
       "      <th>Drug Regimen</th>\n",
       "      <th>Sex</th>\n",
       "      <th>Age_months</th>\n",
       "      <th>Weight (g)</th>\n",
       "      <th>Timepoint</th>\n",
       "      <th>Tumor Volume (mm3)</th>\n",
       "      <th>Metastatic Sites</th>\n",
       "    </tr>\n",
       "  </thead>\n",
       "  <tbody>\n",
       "    <tr>\n",
       "      <td>0</td>\n",
       "      <td>327</td>\n",
       "      <td>a411</td>\n",
       "      <td>Ramicane</td>\n",
       "      <td>Male</td>\n",
       "      <td>3</td>\n",
       "      <td>22</td>\n",
       "      <td>45</td>\n",
       "      <td>38.407618</td>\n",
       "      <td>1</td>\n",
       "    </tr>\n",
       "    <tr>\n",
       "      <td>1</td>\n",
       "      <td>430</td>\n",
       "      <td>a444</td>\n",
       "      <td>Ramicane</td>\n",
       "      <td>Female</td>\n",
       "      <td>10</td>\n",
       "      <td>25</td>\n",
       "      <td>45</td>\n",
       "      <td>43.047543</td>\n",
       "      <td>0</td>\n",
       "    </tr>\n",
       "    <tr>\n",
       "      <td>2</td>\n",
       "      <td>214</td>\n",
       "      <td>a520</td>\n",
       "      <td>Ramicane</td>\n",
       "      <td>Male</td>\n",
       "      <td>13</td>\n",
       "      <td>21</td>\n",
       "      <td>45</td>\n",
       "      <td>38.810366</td>\n",
       "      <td>1</td>\n",
       "    </tr>\n",
       "    <tr>\n",
       "      <td>3</td>\n",
       "      <td>174</td>\n",
       "      <td>a644</td>\n",
       "      <td>Ramicane</td>\n",
       "      <td>Female</td>\n",
       "      <td>7</td>\n",
       "      <td>17</td>\n",
       "      <td>45</td>\n",
       "      <td>32.978522</td>\n",
       "      <td>1</td>\n",
       "    </tr>\n",
       "    <tr>\n",
       "      <td>4</td>\n",
       "      <td>154</td>\n",
       "      <td>c758</td>\n",
       "      <td>Ramicane</td>\n",
       "      <td>Male</td>\n",
       "      <td>9</td>\n",
       "      <td>17</td>\n",
       "      <td>45</td>\n",
       "      <td>33.397653</td>\n",
       "      <td>1</td>\n",
       "    </tr>\n",
       "  </tbody>\n",
       "</table>\n",
       "</div>"
      ],
      "text/plain": [
       "   index Mouse ID Drug Regimen     Sex  Age_months  Weight (g)  Timepoint  \\\n",
       "0    327     a411     Ramicane    Male           3          22         45   \n",
       "1    430     a444     Ramicane  Female          10          25         45   \n",
       "2    214     a520     Ramicane    Male          13          21         45   \n",
       "3    174     a644     Ramicane  Female           7          17         45   \n",
       "4    154     c758     Ramicane    Male           9          17         45   \n",
       "\n",
       "   Tumor Volume (mm3)  Metastatic Sites  \n",
       "0           38.407618                 1  \n",
       "1           43.047543                 0  \n",
       "2           38.810366                 1  \n",
       "3           32.978522                 1  \n",
       "4           33.397653                 1  "
      ]
     },
     "execution_count": 32,
     "metadata": {},
     "output_type": "execute_result"
    }
   ],
   "source": [
    "ram_data_df = final_df.loc[final_df[\"Drug Regimen\"] == \"Ramicane\"]\n",
    "ram_data_df.head().reset_index()"
   ]
  },
  {
   "cell_type": "code",
   "execution_count": 33,
   "metadata": {
    "scrolled": true
   },
   "outputs": [
    {
     "data": {
      "text/plain": [
       "0     22.050126\n",
       "1     29.128472\n",
       "2     30.276232\n",
       "3     30.564625\n",
       "4     30.638696\n",
       "5     31.095335\n",
       "6     31.560470\n",
       "7     32.978522\n",
       "8     33.397653\n",
       "9     33.562402\n",
       "10    36.134852\n",
       "11    36.374510\n",
       "12    37.225650\n",
       "13    37.311236\n",
       "14    38.407618\n",
       "15    38.810366\n",
       "16    40.659006\n",
       "17    40.667713\n",
       "18    43.047543\n",
       "19    45.220869\n",
       "Name: Tumor Volume (mm3), dtype: float64"
      ]
     },
     "execution_count": 33,
     "metadata": {},
     "output_type": "execute_result"
    }
   ],
   "source": [
    "ram_list = ram_data_df.sort_values([\"Tumor Volume (mm3)\",\"Mouse ID\"], ascending=True).reset_index()\n",
    "ram_list = ram_list[\"Tumor Volume (mm3)\"]\n",
    "ram_list "
   ]
  },
  {
   "cell_type": "code",
   "execution_count": 34,
   "metadata": {},
   "outputs": [
    {
     "name": "stdout",
     "output_type": "stream",
     "text": [
      "The lower quartile of tumer volume is: 30.981175224999998\n",
      "The upper quartile of tumer volume is: 38.508305307499995\n",
      "The interquartile range of tumer volume is: 7.527130082499998\n",
      "The the median of tumer volume is: 34.848627300000004 \n",
      "Values below 19.690480101250003 could be outliers.\n",
      "Values above 49.79900043124999 could be outliers.\n"
     ]
    }
   ],
   "source": [
    "quartiles = ram_list.quantile([.25,.5,.75])\n",
    "lowerq = quartiles[0.25]\n",
    "upperq = quartiles[0.75]\n",
    "iqr = upperq-lowerq\n",
    "\n",
    "print(f\"The lower quartile of tumer volume is: {lowerq}\")\n",
    "print(f\"The upper quartile of tumer volume is: {upperq}\")\n",
    "print(f\"The interquartile range of tumer volume is: {iqr}\")\n",
    "print(f\"The the median of tumer volume is: {quartiles[0.5]} \")\n",
    "\n",
    "lower_bound = lowerq - (1.5*iqr)\n",
    "upper_bound = upperq + (1.5*iqr)\n",
    "print(f\"Values below {lower_bound} could be outliers.\")\n",
    "print(f\"Values above {upper_bound} could be outliers.\")"
   ]
  },
  {
   "cell_type": "code",
   "execution_count": 35,
   "metadata": {
    "scrolled": true
   },
   "outputs": [
    {
     "data": {
      "image/png": "[encoded data removed]",
      "text/plain": [
       "<Figure size 432x288 with 1 Axes>"
      ]
     },
     "metadata": {
      "needs_background": "light"
     },
     "output_type": "display_data"
    }
   ],
   "source": [
    "fig1, ax1 = plt.subplots()\n",
    "ax1.set_title('Ramicane')\n",
    "ax1.set_ylabel('Tumor Volume (mm3)')\n",
    "ax1.boxplot(ram_list)\n",
    "plt.show()"
   ]
  },
  {
   "cell_type": "code",
   "execution_count": 36,
   "metadata": {
    "scrolled": true
   },
   "outputs": [
    {
     "data": {
      "text/html": [
       "<div>\n",
       "<style scoped>\n",
       "    .dataframe tbody tr th:only-of-type {\n",
       "        vertical-align: middle;\n",
       "    }\n",
       "\n",
       "    .dataframe tbody tr th {\n",
       "        vertical-align: top;\n",
       "    }\n",
       "\n",
       "    .dataframe thead th {\n",
       "        text-align: right;\n",
       "    }\n",
       "</style>\n",
       "<table border=\"1\" class=\"dataframe\">\n",
       "  <thead>\n",
       "    <tr style=\"text-align: right;\">\n",
       "      <th></th>\n",
       "      <th>index</th>\n",
       "      <th>Mouse ID</th>\n",
       "      <th>Drug Regimen</th>\n",
       "      <th>Sex</th>\n",
       "      <th>Age_months</th>\n",
       "      <th>Weight (g)</th>\n",
       "      <th>Timepoint</th>\n",
       "      <th>Tumor Volume (mm3)</th>\n",
       "      <th>Metastatic Sites</th>\n",
       "    </tr>\n",
       "  </thead>\n",
       "  <tbody>\n",
       "    <tr>\n",
       "      <td>0</td>\n",
       "      <td>463</td>\n",
       "      <td>a203</td>\n",
       "      <td>Infubinol</td>\n",
       "      <td>Female</td>\n",
       "      <td>20</td>\n",
       "      <td>23</td>\n",
       "      <td>45</td>\n",
       "      <td>67.973419</td>\n",
       "      <td>2</td>\n",
       "    </tr>\n",
       "    <tr>\n",
       "      <td>1</td>\n",
       "      <td>473</td>\n",
       "      <td>a251</td>\n",
       "      <td>Infubinol</td>\n",
       "      <td>Female</td>\n",
       "      <td>21</td>\n",
       "      <td>25</td>\n",
       "      <td>45</td>\n",
       "      <td>65.525743</td>\n",
       "      <td>1</td>\n",
       "    </tr>\n",
       "    <tr>\n",
       "      <td>2</td>\n",
       "      <td>540</td>\n",
       "      <td>a685</td>\n",
       "      <td>Infubinol</td>\n",
       "      <td>Male</td>\n",
       "      <td>8</td>\n",
       "      <td>30</td>\n",
       "      <td>45</td>\n",
       "      <td>66.083066</td>\n",
       "      <td>3</td>\n",
       "    </tr>\n",
       "    <tr>\n",
       "      <td>3</td>\n",
       "      <td>637</td>\n",
       "      <td>c139</td>\n",
       "      <td>Infubinol</td>\n",
       "      <td>Male</td>\n",
       "      <td>11</td>\n",
       "      <td>28</td>\n",
       "      <td>45</td>\n",
       "      <td>72.226731</td>\n",
       "      <td>2</td>\n",
       "    </tr>\n",
       "    <tr>\n",
       "      <td>4</td>\n",
       "      <td>800</td>\n",
       "      <td>e476</td>\n",
       "      <td>Infubinol</td>\n",
       "      <td>Male</td>\n",
       "      <td>23</td>\n",
       "      <td>26</td>\n",
       "      <td>45</td>\n",
       "      <td>62.435404</td>\n",
       "      <td>1</td>\n",
       "    </tr>\n",
       "    <tr>\n",
       "      <td>5</td>\n",
       "      <td>834</td>\n",
       "      <td>f345</td>\n",
       "      <td>Infubinol</td>\n",
       "      <td>Male</td>\n",
       "      <td>23</td>\n",
       "      <td>26</td>\n",
       "      <td>45</td>\n",
       "      <td>60.918767</td>\n",
       "      <td>1</td>\n",
       "    </tr>\n",
       "    <tr>\n",
       "      <td>6</td>\n",
       "      <td>1053</td>\n",
       "      <td>k483</td>\n",
       "      <td>Infubinol</td>\n",
       "      <td>Female</td>\n",
       "      <td>20</td>\n",
       "      <td>30</td>\n",
       "      <td>45</td>\n",
       "      <td>66.196912</td>\n",
       "      <td>3</td>\n",
       "    </tr>\n",
       "    <tr>\n",
       "      <td>7</td>\n",
       "      <td>1813</td>\n",
       "      <td>y163</td>\n",
       "      <td>Infubinol</td>\n",
       "      <td>Female</td>\n",
       "      <td>17</td>\n",
       "      <td>27</td>\n",
       "      <td>45</td>\n",
       "      <td>67.685569</td>\n",
       "      <td>3</td>\n",
       "    </tr>\n",
       "    <tr>\n",
       "      <td>8</td>\n",
       "      <td>1872</td>\n",
       "      <td>z581</td>\n",
       "      <td>Infubinol</td>\n",
       "      <td>Female</td>\n",
       "      <td>24</td>\n",
       "      <td>25</td>\n",
       "      <td>45</td>\n",
       "      <td>62.754451</td>\n",
       "      <td>3</td>\n",
       "    </tr>\n",
       "  </tbody>\n",
       "</table>\n",
       "</div>"
      ],
      "text/plain": [
       "   index Mouse ID Drug Regimen     Sex  Age_months  Weight (g)  Timepoint  \\\n",
       "0    463     a203    Infubinol  Female          20          23         45   \n",
       "1    473     a251    Infubinol  Female          21          25         45   \n",
       "2    540     a685    Infubinol    Male           8          30         45   \n",
       "3    637     c139    Infubinol    Male          11          28         45   \n",
       "4    800     e476    Infubinol    Male          23          26         45   \n",
       "5    834     f345    Infubinol    Male          23          26         45   \n",
       "6   1053     k483    Infubinol  Female          20          30         45   \n",
       "7   1813     y163    Infubinol  Female          17          27         45   \n",
       "8   1872     z581    Infubinol  Female          24          25         45   \n",
       "\n",
       "   Tumor Volume (mm3)  Metastatic Sites  \n",
       "0           67.973419                 2  \n",
       "1           65.525743                 1  \n",
       "2           66.083066                 3  \n",
       "3           72.226731                 2  \n",
       "4           62.435404                 1  \n",
       "5           60.918767                 1  \n",
       "6           66.196912                 3  \n",
       "7           67.685569                 3  \n",
       "8           62.754451                 3  "
      ]
     },
     "execution_count": 36,
     "metadata": {},
     "output_type": "execute_result"
    }
   ],
   "source": [
    "inf_data_df = final_df.loc[final_df[\"Drug Regimen\"] == \"Infubinol\"]\n",
    "inf_data_df.reset_index()"
   ]
  },
  {
   "cell_type": "code",
   "execution_count": 37,
   "metadata": {
    "scrolled": true
   },
   "outputs": [
    {
     "data": {
      "text/plain": [
       "0    60.918767\n",
       "1    62.435404\n",
       "2    62.754451\n",
       "3    65.525743\n",
       "4    66.083066\n",
       "5    66.196912\n",
       "6    67.685569\n",
       "7    67.973419\n",
       "8    72.226731\n",
       "Name: Tumor Volume (mm3), dtype: float64"
      ]
     },
     "execution_count": 37,
     "metadata": {},
     "output_type": "execute_result"
    }
   ],
   "source": [
    "inf_list = inf_data_df.sort_values([\"Tumor Volume (mm3)\",\"Mouse ID\"], ascending=True).reset_index()\n",
    "inf_list = inf_list[\"Tumor Volume (mm3)\"]\n",
    "inf_list "
   ]
  },
  {
   "cell_type": "code",
   "execution_count": 38,
   "metadata": {},
   "outputs": [
    {
     "name": "stdout",
     "output_type": "stream",
     "text": [
      "The lower quartile of tumer volume is: 62.75445141\n",
      "The upper quartile of tumer volume is: 67.68556862\n",
      "The interquartile range of tumer volume is: 4.9311172099999965\n",
      "The the median of tumer volume is: 66.08306589 \n",
      "Values below 55.35777559500001 could be outliers.\n",
      "Values above 75.08224443499999 could be outliers.\n"
     ]
    }
   ],
   "source": [
    "quartiles = inf_list.quantile([.25,.5,.75])\n",
    "lowerq = quartiles[0.25]\n",
    "upperq = quartiles[0.75]\n",
    "iqr = upperq-lowerq\n",
    "\n",
    "print(f\"The lower quartile of tumer volume is: {lowerq}\")\n",
    "print(f\"The upper quartile of tumer volume is: {upperq}\")\n",
    "print(f\"The interquartile range of tumer volume is: {iqr}\")\n",
    "print(f\"The the median of tumer volume is: {quartiles[0.5]} \")\n",
    "\n",
    "lower_bound = lowerq - (1.5*iqr)\n",
    "upper_bound = upperq + (1.5*iqr)\n",
    "print(f\"Values below {lower_bound} could be outliers.\")\n",
    "print(f\"Values above {upper_bound} could be outliers.\")"
   ]
  },
  {
   "cell_type": "code",
   "execution_count": 39,
   "metadata": {},
   "outputs": [
    {
     "data": {
      "image/png": "[encoded data removed]",
      "text/plain": [
       "<Figure size 432x288 with 1 Axes>"
      ]
     },
     "metadata": {
      "needs_background": "light"
     },
     "output_type": "display_data"
    }
   ],
   "source": [
    "fig1, ax1 = plt.subplots()\n",
    "ax1.set_title('Infubinol')\n",
    "ax1.set_ylabel('Tumor Volume (mm3)')\n",
    "ax1.boxplot(inf_list)\n",
    "plt.show()"
   ]
  },
  {
   "cell_type": "code",
   "execution_count": 40,
   "metadata": {},
   "outputs": [
    {
     "data": {
      "text/html": [
       "<div>\n",
       "<style scoped>\n",
       "    .dataframe tbody tr th:only-of-type {\n",
       "        vertical-align: middle;\n",
       "    }\n",
       "\n",
       "    .dataframe tbody tr th {\n",
       "        vertical-align: top;\n",
       "    }\n",
       "\n",
       "    .dataframe thead th {\n",
       "        text-align: right;\n",
       "    }\n",
       "</style>\n",
       "<table border=\"1\" class=\"dataframe\">\n",
       "  <thead>\n",
       "    <tr style=\"text-align: right;\">\n",
       "      <th></th>\n",
       "      <th>index</th>\n",
       "      <th>Mouse ID</th>\n",
       "      <th>Drug Regimen</th>\n",
       "      <th>Sex</th>\n",
       "      <th>Age_months</th>\n",
       "      <th>Weight (g)</th>\n",
       "      <th>Timepoint</th>\n",
       "      <th>Tumor Volume (mm3)</th>\n",
       "      <th>Metastatic Sites</th>\n",
       "    </tr>\n",
       "  </thead>\n",
       "  <tbody>\n",
       "    <tr>\n",
       "      <td>0</td>\n",
       "      <td>493</td>\n",
       "      <td>a275</td>\n",
       "      <td>Ceftamin</td>\n",
       "      <td>Female</td>\n",
       "      <td>20</td>\n",
       "      <td>28</td>\n",
       "      <td>45</td>\n",
       "      <td>62.999356</td>\n",
       "      <td>3</td>\n",
       "    </tr>\n",
       "    <tr>\n",
       "      <td>1</td>\n",
       "      <td>993</td>\n",
       "      <td>j296</td>\n",
       "      <td>Ceftamin</td>\n",
       "      <td>Female</td>\n",
       "      <td>24</td>\n",
       "      <td>30</td>\n",
       "      <td>45</td>\n",
       "      <td>61.849023</td>\n",
       "      <td>3</td>\n",
       "    </tr>\n",
       "    <tr>\n",
       "      <td>2</td>\n",
       "      <td>1033</td>\n",
       "      <td>k210</td>\n",
       "      <td>Ceftamin</td>\n",
       "      <td>Male</td>\n",
       "      <td>15</td>\n",
       "      <td>28</td>\n",
       "      <td>45</td>\n",
       "      <td>68.923185</td>\n",
       "      <td>3</td>\n",
       "    </tr>\n",
       "    <tr>\n",
       "      <td>3</td>\n",
       "      <td>1112</td>\n",
       "      <td>l471</td>\n",
       "      <td>Ceftamin</td>\n",
       "      <td>Female</td>\n",
       "      <td>7</td>\n",
       "      <td>28</td>\n",
       "      <td>45</td>\n",
       "      <td>67.748662</td>\n",
       "      <td>1</td>\n",
       "    </tr>\n",
       "    <tr>\n",
       "      <td>4</td>\n",
       "      <td>1132</td>\n",
       "      <td>l661</td>\n",
       "      <td>Ceftamin</td>\n",
       "      <td>Male</td>\n",
       "      <td>18</td>\n",
       "      <td>26</td>\n",
       "      <td>45</td>\n",
       "      <td>59.851956</td>\n",
       "      <td>3</td>\n",
       "    </tr>\n",
       "    <tr>\n",
       "      <td>5</td>\n",
       "      <td>1162</td>\n",
       "      <td>l733</td>\n",
       "      <td>Ceftamin</td>\n",
       "      <td>Female</td>\n",
       "      <td>4</td>\n",
       "      <td>30</td>\n",
       "      <td>45</td>\n",
       "      <td>64.299830</td>\n",
       "      <td>1</td>\n",
       "    </tr>\n",
       "    <tr>\n",
       "      <td>6</td>\n",
       "      <td>1260</td>\n",
       "      <td>o287</td>\n",
       "      <td>Ceftamin</td>\n",
       "      <td>Male</td>\n",
       "      <td>2</td>\n",
       "      <td>28</td>\n",
       "      <td>45</td>\n",
       "      <td>59.741901</td>\n",
       "      <td>4</td>\n",
       "    </tr>\n",
       "    <tr>\n",
       "      <td>7</td>\n",
       "      <td>1379</td>\n",
       "      <td>p438</td>\n",
       "      <td>Ceftamin</td>\n",
       "      <td>Female</td>\n",
       "      <td>11</td>\n",
       "      <td>26</td>\n",
       "      <td>45</td>\n",
       "      <td>61.433892</td>\n",
       "      <td>1</td>\n",
       "    </tr>\n",
       "    <tr>\n",
       "      <td>8</td>\n",
       "      <td>1670</td>\n",
       "      <td>w151</td>\n",
       "      <td>Ceftamin</td>\n",
       "      <td>Male</td>\n",
       "      <td>24</td>\n",
       "      <td>25</td>\n",
       "      <td>45</td>\n",
       "      <td>67.527482</td>\n",
       "      <td>3</td>\n",
       "    </tr>\n",
       "    <tr>\n",
       "      <td>9</td>\n",
       "      <td>1773</td>\n",
       "      <td>x581</td>\n",
       "      <td>Ceftamin</td>\n",
       "      <td>Female</td>\n",
       "      <td>19</td>\n",
       "      <td>28</td>\n",
       "      <td>45</td>\n",
       "      <td>64.634949</td>\n",
       "      <td>3</td>\n",
       "    </tr>\n",
       "    <tr>\n",
       "      <td>10</td>\n",
       "      <td>1797</td>\n",
       "      <td>x822</td>\n",
       "      <td>Ceftamin</td>\n",
       "      <td>Male</td>\n",
       "      <td>3</td>\n",
       "      <td>29</td>\n",
       "      <td>45</td>\n",
       "      <td>61.386660</td>\n",
       "      <td>3</td>\n",
       "    </tr>\n",
       "    <tr>\n",
       "      <td>11</td>\n",
       "      <td>1845</td>\n",
       "      <td>y769</td>\n",
       "      <td>Ceftamin</td>\n",
       "      <td>Female</td>\n",
       "      <td>6</td>\n",
       "      <td>27</td>\n",
       "      <td>45</td>\n",
       "      <td>68.594745</td>\n",
       "      <td>4</td>\n",
       "    </tr>\n",
       "    <tr>\n",
       "      <td>12</td>\n",
       "      <td>1855</td>\n",
       "      <td>y865</td>\n",
       "      <td>Ceftamin</td>\n",
       "      <td>Male</td>\n",
       "      <td>23</td>\n",
       "      <td>26</td>\n",
       "      <td>45</td>\n",
       "      <td>64.729837</td>\n",
       "      <td>3</td>\n",
       "    </tr>\n",
       "  </tbody>\n",
       "</table>\n",
       "</div>"
      ],
      "text/plain": [
       "    index Mouse ID Drug Regimen     Sex  Age_months  Weight (g)  Timepoint  \\\n",
       "0     493     a275     Ceftamin  Female          20          28         45   \n",
       "1     993     j296     Ceftamin  Female          24          30         45   \n",
       "2    1033     k210     Ceftamin    Male          15          28         45   \n",
       "3    1112     l471     Ceftamin  Female           7          28         45   \n",
       "4    1132     l661     Ceftamin    Male          18          26         45   \n",
       "5    1162     l733     Ceftamin  Female           4          30         45   \n",
       "6    1260     o287     Ceftamin    Male           2          28         45   \n",
       "7    1379     p438     Ceftamin  Female          11          26         45   \n",
       "8    1670     w151     Ceftamin    Male          24          25         45   \n",
       "9    1773     x581     Ceftamin  Female          19          28         45   \n",
       "10   1797     x822     Ceftamin    Male           3          29         45   \n",
       "11   1845     y769     Ceftamin  Female           6          27         45   \n",
       "12   1855     y865     Ceftamin    Male          23          26         45   \n",
       "\n",
       "    Tumor Volume (mm3)  Metastatic Sites  \n",
       "0            62.999356                 3  \n",
       "1            61.849023                 3  \n",
       "2            68.923185                 3  \n",
       "3            67.748662                 1  \n",
       "4            59.851956                 3  \n",
       "5            64.299830                 1  \n",
       "6            59.741901                 4  \n",
       "7            61.433892                 1  \n",
       "8            67.527482                 3  \n",
       "9            64.634949                 3  \n",
       "10           61.386660                 3  \n",
       "11           68.594745                 4  \n",
       "12           64.729837                 3  "
      ]
     },
     "execution_count": 40,
     "metadata": {},
     "output_type": "execute_result"
    }
   ],
   "source": [
    "cef_data_df = final_df.loc[final_df[\"Drug Regimen\"] == \"Ceftamin\"]\n",
    "cef_data_df.reset_index()"
   ]
  },
  {
   "cell_type": "code",
   "execution_count": 41,
   "metadata": {},
   "outputs": [
    {
     "data": {
      "text/plain": [
       "0     59.741901\n",
       "1     59.851956\n",
       "2     61.386660\n",
       "3     61.433892\n",
       "4     61.849023\n",
       "5     62.999356\n",
       "6     64.299830\n",
       "7     64.634949\n",
       "8     64.729837\n",
       "9     67.527482\n",
       "10    67.748662\n",
       "11    68.594745\n",
       "12    68.923185\n",
       "Name: Tumor Volume (mm3), dtype: float64"
      ]
     },
     "execution_count": 41,
     "metadata": {},
     "output_type": "execute_result"
    }
   ],
   "source": [
    "cef_list = cef_data_df.sort_values([\"Tumor Volume (mm3)\",\"Mouse ID\"], ascending=True).reset_index()\n",
    "cef_list = cef_list[\"Tumor Volume (mm3)\"]\n",
    "cef_list "
   ]
  },
  {
   "cell_type": "code",
   "execution_count": 42,
   "metadata": {},
   "outputs": [
    {
     "name": "stdout",
     "output_type": "stream",
     "text": [
      "The lower quartile of tumer volume is: 61.43389223\n",
      "The upper quartile of tumer volume is: 67.52748237\n",
      "The interquartile range of tumer volume is: 6.093590140000003\n",
      "The the median of tumer volume is: 64.29983003 \n",
      "Values below 52.29350701999999 could be outliers.\n",
      "Values above 76.66786758 could be outliers.\n"
     ]
    }
   ],
   "source": [
    "quartiles = cef_list.quantile([.25,.5,.75])\n",
    "lowerq = quartiles[0.25]\n",
    "upperq = quartiles[0.75]\n",
    "iqr = upperq-lowerq\n",
    "\n",
    "print(f\"The lower quartile of tumer volume is: {lowerq}\")\n",
    "print(f\"The upper quartile of tumer volume is: {upperq}\")\n",
    "print(f\"The interquartile range of tumer volume is: {iqr}\")\n",
    "print(f\"The the median of tumer volume is: {quartiles[0.5]} \")\n",
    "\n",
    "lower_bound = lowerq - (1.5*iqr)\n",
    "upper_bound = upperq + (1.5*iqr)\n",
    "print(f\"Values below {lower_bound} could be outliers.\")\n",
    "print(f\"Values above {upper_bound} could be outliers.\")"
   ]
  },
  {
   "cell_type": "code",
   "execution_count": 43,
   "metadata": {},
   "outputs": [
    {
     "data": {
      "image/png": "[encoded data removed]",
      "text/plain": [
       "<Figure size 432x288 with 1 Axes>"
      ]
     },
     "metadata": {
      "needs_background": "light"
     },
     "output_type": "display_data"
    }
   ],
   "source": [
    "fig1, ax1 = plt.subplots()\n",
    "ax1.set_title('Ceftamin')\n",
    "ax1.set_ylabel('Tumor Volume (mm3)')\n",
    "ax1.boxplot(cef_list)\n",
    "plt.show()"
   ]
  },
  {
   "cell_type": "markdown",
   "metadata": {},
   "source": [
    "## Line and scatter plots"
   ]
  },
  {
   "cell_type": "code",
   "execution_count": 44,
   "metadata": {
    "scrolled": true
   },
   "outputs": [
    {
     "data": {
      "text/html": [
       "<div>\n",
       "<style scoped>\n",
       "    .dataframe tbody tr th:only-of-type {\n",
       "        vertical-align: middle;\n",
       "    }\n",
       "\n",
       "    .dataframe tbody tr th {\n",
       "        vertical-align: top;\n",
       "    }\n",
       "\n",
       "    .dataframe thead th {\n",
       "        text-align: right;\n",
       "    }\n",
       "</style>\n",
       "<table border=\"1\" class=\"dataframe\">\n",
       "  <thead>\n",
       "    <tr style=\"text-align: right;\">\n",
       "      <th></th>\n",
       "      <th>Timepoint</th>\n",
       "      <th>Tumor Volume (mm3)</th>\n",
       "    </tr>\n",
       "  </thead>\n",
       "  <tbody>\n",
       "    <tr>\n",
       "      <td>300</td>\n",
       "      <td>0</td>\n",
       "      <td>45.000000</td>\n",
       "    </tr>\n",
       "    <tr>\n",
       "      <td>301</td>\n",
       "      <td>5</td>\n",
       "      <td>45.651331</td>\n",
       "    </tr>\n",
       "    <tr>\n",
       "      <td>302</td>\n",
       "      <td>10</td>\n",
       "      <td>43.270852</td>\n",
       "    </tr>\n",
       "    <tr>\n",
       "      <td>303</td>\n",
       "      <td>15</td>\n",
       "      <td>43.784893</td>\n",
       "    </tr>\n",
       "    <tr>\n",
       "      <td>304</td>\n",
       "      <td>20</td>\n",
       "      <td>42.731552</td>\n",
       "    </tr>\n",
       "    <tr>\n",
       "      <td>305</td>\n",
       "      <td>25</td>\n",
       "      <td>43.262145</td>\n",
       "    </tr>\n",
       "    <tr>\n",
       "      <td>306</td>\n",
       "      <td>30</td>\n",
       "      <td>40.605335</td>\n",
       "    </tr>\n",
       "    <tr>\n",
       "      <td>307</td>\n",
       "      <td>35</td>\n",
       "      <td>37.967644</td>\n",
       "    </tr>\n",
       "    <tr>\n",
       "      <td>308</td>\n",
       "      <td>40</td>\n",
       "      <td>38.379726</td>\n",
       "    </tr>\n",
       "    <tr>\n",
       "      <td>309</td>\n",
       "      <td>45</td>\n",
       "      <td>38.982878</td>\n",
       "    </tr>\n",
       "  </tbody>\n",
       "</table>\n",
       "</div>"
      ],
      "text/plain": [
       "     Timepoint  Tumor Volume (mm3)\n",
       "300          0           45.000000\n",
       "301          5           45.651331\n",
       "302         10           43.270852\n",
       "303         15           43.784893\n",
       "304         20           42.731552\n",
       "305         25           43.262145\n",
       "306         30           40.605335\n",
       "307         35           37.967644\n",
       "308         40           38.379726\n",
       "309         45           38.982878"
      ]
     },
     "execution_count": 44,
     "metadata": {},
     "output_type": "execute_result"
    }
   ],
   "source": [
    "# Generate a line plot of time point versus tumor volume for a mouse treated with Capomulin\n",
    "cap = final_tumer[final_tumer[\"Drug Regimen\"] == \"Capomulin\"]\n",
    "cap_mouse = cap[cap[\"Mouse ID\"] == \"b128\"]\n",
    "cap_mouse = cap_mouse.loc[:, [\"Timepoint\", \"Tumor Volume (mm3)\"]] \n",
    "cap_mouse"
   ]
  },
  {
   "cell_type": "code",
   "execution_count": 49,
   "metadata": {},
   "outputs": [
    {
     "data": {
      "image/png": "[encoded data removed]",
      "text/plain": [
       "<Figure size 360x288 with 1 Axes>"
      ]
     },
     "metadata": {
      "needs_background": "light"
     },
     "output_type": "display_data"
    }
   ],
   "source": [
    "cap_mouse.set_index('Timepoint').plot(figsize=(5, 4), linewidth=2.5, color='green')\n",
    "plt.title(\"Time Point vs Tumor Volume (mm3)\")\n",
    "plt.xlabel(\"Timepoint\")\n",
    "plt.ylabel(\"Tumor Volume (mm3)\") \n",
    "plt.tight_layout()"
   ]
  },
  {
   "cell_type": "code",
   "execution_count": 50,
   "metadata": {
    "scrolled": true
   },
   "outputs": [
    {
     "data": {
      "text/html": [
       "<div>\n",
       "<style scoped>\n",
       "    .dataframe tbody tr th:only-of-type {\n",
       "        vertical-align: middle;\n",
       "    }\n",
       "\n",
       "    .dataframe tbody tr th {\n",
       "        vertical-align: top;\n",
       "    }\n",
       "\n",
       "    .dataframe thead th {\n",
       "        text-align: right;\n",
       "    }\n",
       "</style>\n",
       "<table border=\"1\" class=\"dataframe\">\n",
       "  <thead>\n",
       "    <tr style=\"text-align: right;\">\n",
       "      <th></th>\n",
       "      <th>Mouse ID</th>\n",
       "      <th>Weight (g)</th>\n",
       "      <th>Tumor Volume (mm3)</th>\n",
       "    </tr>\n",
       "  </thead>\n",
       "  <tbody>\n",
       "    <tr>\n",
       "      <td>300</td>\n",
       "      <td>b128</td>\n",
       "      <td>22</td>\n",
       "      <td>45.000000</td>\n",
       "    </tr>\n",
       "    <tr>\n",
       "      <td>301</td>\n",
       "      <td>b128</td>\n",
       "      <td>22</td>\n",
       "      <td>45.651331</td>\n",
       "    </tr>\n",
       "    <tr>\n",
       "      <td>302</td>\n",
       "      <td>b128</td>\n",
       "      <td>22</td>\n",
       "      <td>43.270852</td>\n",
       "    </tr>\n",
       "    <tr>\n",
       "      <td>303</td>\n",
       "      <td>b128</td>\n",
       "      <td>22</td>\n",
       "      <td>43.784893</td>\n",
       "    </tr>\n",
       "    <tr>\n",
       "      <td>304</td>\n",
       "      <td>b128</td>\n",
       "      <td>22</td>\n",
       "      <td>42.731552</td>\n",
       "    </tr>\n",
       "  </tbody>\n",
       "</table>\n",
       "</div>"
      ],
      "text/plain": [
       "    Mouse ID  Weight (g)  Tumor Volume (mm3)\n",
       "300     b128          22           45.000000\n",
       "301     b128          22           45.651331\n",
       "302     b128          22           43.270852\n",
       "303     b128          22           43.784893\n",
       "304     b128          22           42.731552"
      ]
     },
     "execution_count": 50,
     "metadata": {},
     "output_type": "execute_result"
    }
   ],
   "source": [
    "# Generate a scatter plot of mouse weight versus average tumor volume for the Capomulin regimen\n",
    "\n",
    "reduced_df = cap.loc[:, [\"Mouse ID\", \"Weight (g)\", \"Tumor Volume (mm3)\"]]\n",
    "reduced_df.head()"
   ]
  },
  {
   "cell_type": "code",
   "execution_count": 51,
   "metadata": {
    "scrolled": true
   },
   "outputs": [
    {
     "data": {
      "text/html": [
       "<div>\n",
       "<style scoped>\n",
       "    .dataframe tbody tr th:only-of-type {\n",
       "        vertical-align: middle;\n",
       "    }\n",
       "\n",
       "    .dataframe tbody tr th {\n",
       "        vertical-align: top;\n",
       "    }\n",
       "\n",
       "    .dataframe thead th {\n",
       "        text-align: right;\n",
       "    }\n",
       "</style>\n",
       "<table border=\"1\" class=\"dataframe\">\n",
       "  <thead>\n",
       "    <tr style=\"text-align: right;\">\n",
       "      <th></th>\n",
       "      <th>Mouse ID</th>\n",
       "      <th>Weight (g)</th>\n",
       "      <th>Average Volume</th>\n",
       "    </tr>\n",
       "  </thead>\n",
       "  <tbody>\n",
       "    <tr>\n",
       "      <td>0</td>\n",
       "      <td>b128</td>\n",
       "      <td>22</td>\n",
       "      <td>41.963636</td>\n",
       "    </tr>\n",
       "    <tr>\n",
       "      <td>1</td>\n",
       "      <td>b742</td>\n",
       "      <td>21</td>\n",
       "      <td>40.083699</td>\n",
       "    </tr>\n",
       "    <tr>\n",
       "      <td>2</td>\n",
       "      <td>f966</td>\n",
       "      <td>17</td>\n",
       "      <td>36.505973</td>\n",
       "    </tr>\n",
       "    <tr>\n",
       "      <td>3</td>\n",
       "      <td>g288</td>\n",
       "      <td>19</td>\n",
       "      <td>41.990097</td>\n",
       "    </tr>\n",
       "    <tr>\n",
       "      <td>4</td>\n",
       "      <td>g316</td>\n",
       "      <td>22</td>\n",
       "      <td>44.613344</td>\n",
       "    </tr>\n",
       "  </tbody>\n",
       "</table>\n",
       "</div>"
      ],
      "text/plain": [
       "  Mouse ID  Weight (g)  Average Volume\n",
       "0     b128          22       41.963636\n",
       "1     b742          21       40.083699\n",
       "2     f966          17       36.505973\n",
       "3     g288          19       41.990097\n",
       "4     g316          22       44.613344"
      ]
     },
     "execution_count": 51,
     "metadata": {},
     "output_type": "execute_result"
    }
   ],
   "source": [
    "average_cap = pd.DataFrame(reduced_df.groupby([\"Mouse ID\", \"Weight (g)\"])[\"Tumor Volume (mm3)\"].mean()).reset_index()\n",
    "average_cap = average_cap.rename(columns={\"Tumor Volume (mm3)\": \"Average Volume\"})\n",
    "average_cap.head()"
   ]
  },
  {
   "cell_type": "code",
   "execution_count": 54,
   "metadata": {},
   "outputs": [
    {
     "name": "stdout",
     "output_type": "stream",
     "text": [
      "The correlation coefficient between weight acid and average volume is 0.84.\n"
     ]
    },
    {
     "data": {
      "image/png": "[encoded data removed]",
      "text/plain": [
       "<Figure size 432x288 with 1 Axes>"
      ]
     },
     "metadata": {
      "needs_background": "light"
     },
     "output_type": "display_data"
    }
   ],
   "source": [
    "x_values = average_cap['Weight (g)']\n",
    "y_values = average_cap['Average Volume']\n",
    "plt.scatter(x_values,y_values)\n",
    "\n",
    "plt.title('Weight (g) vs Average Volume (mm3)')\n",
    "plt.xlabel('Weight (g)')\n",
    "plt.ylabel('Average Volume (mm3)')\n",
    "plt.tight_layout()\n",
    "print(f\"The correlation coefficient between weight acid and average volume is {round(st.pearsonr(x_values,y_values)[0],2)}.\")"
   ]
  },
  {
   "cell_type": "code",
   "execution_count": 11,
   "metadata": {},
   "outputs": [],
   "source": [
    "# Calculate the correlation coefficient and linear regression model \n",
    "#for mouse weight and average tumor volume for the Capomulin regimen"
   ]
  },
  {
   "cell_type": "code",
   "execution_count": 56,
   "metadata": {},
   "outputs": [
    {
     "name": "stdout",
     "output_type": "stream",
     "text": [
      "The r-squared is: 0.8419363424694718\n"
     ]
    },
    {
     "data": {
      "image/png": "[encoded data removed]",
      "text/plain": [
       "<Figure size 432x288 with 1 Axes>"
      ]
     },
     "metadata": {
      "needs_background": "light"
     },
     "output_type": "display_data"
    }
   ],
   "source": [
    "x_values = average_cap['Weight (g)']\n",
    "y_values = average_cap['Average Volume']\n",
    "(slope, intercept, rvalue, pvalue, stderr) = linregress(x_values, y_values)\n",
    "regress_values = x_values * slope + intercept\n",
    "line_eq = \"y = \" + str(round(slope,2)) + \"x + \" + str(round(intercept,2))\n",
    "plt.scatter(x_values,y_values)\n",
    "plt.plot(x_values,regress_values,\"r-\")\n",
    "plt.annotate(line_eq,(20,50),fontsize=15,color=\"red\")\n",
    "plt.title('Weight (g) vs Average Volume (mm3)')\n",
    "plt.xlabel('Weight (g)')\n",
    "plt.ylabel('Average Volume (mm3)')\n",
    "print(f\"The r-squared is: {rvalue}\")\n",
    "plt.tight_layout()"
   ]
  },
  {
   "cell_type": "code",
   "execution_count": null,
   "metadata": {},
   "outputs": [],
   "source": []
  }
 ],
 "metadata": {
  "anaconda-cloud": {},
  "kernelspec": {
   "display_name": "Python 3.7.4 64-bit ('base': conda)",
   "language": "python",
   "name": "python37464bitbaseconda2b8572abceaa47019c5a3de69ab4b2e6"
  },
  "language_info": {
   "codemirror_mode": {
    "name": "ipython",
    "version": 3
   },
   "file_extension": ".py",
   "mimetype": "text/x-python",
   "name": "python",
   "nbconvert_exporter": "python",
   "pygments_lexer": "ipython3",
   "version": "3.7.4"
  }
 },
 "nbformat": 4,
 "nbformat_minor": 2
}
